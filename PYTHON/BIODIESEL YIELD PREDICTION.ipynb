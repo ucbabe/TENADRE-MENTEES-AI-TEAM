{
 "cells": [
  {
   "cell_type": "code",
   "execution_count": 1,
   "id": "68c4d9ef",
   "metadata": {},
   "outputs": [],
   "source": [
    "import pandas as pd\n",
    "import numpy as np\n",
    "import matplotlib.pyplot as plt\n",
    "import seaborn as sns"
   ]
  },
  {
   "cell_type": "code",
   "execution_count": 2,
   "id": "5695913c",
   "metadata": {},
   "outputs": [
    {
     "data": {
      "text/html": [
       "<div>\n",
       "<style scoped>\n",
       "    .dataframe tbody tr th:only-of-type {\n",
       "        vertical-align: middle;\n",
       "    }\n",
       "\n",
       "    .dataframe tbody tr th {\n",
       "        vertical-align: top;\n",
       "    }\n",
       "\n",
       "    .dataframe thead th {\n",
       "        text-align: right;\n",
       "    }\n",
       "</style>\n",
       "<table border=\"1\" class=\"dataframe\">\n",
       "  <thead>\n",
       "    <tr style=\"text-align: right;\">\n",
       "      <th></th>\n",
       "      <th>Temperature [°C]</th>\n",
       "      <th>Pressure [Mpa]</th>\n",
       "      <th>Reaction Time [min]</th>\n",
       "      <th>Methanol/Oil</th>\n",
       "      <th>Experimented Yield [-]</th>\n",
       "    </tr>\n",
       "  </thead>\n",
       "  <tbody>\n",
       "    <tr>\n",
       "      <th>0</th>\n",
       "      <td>270</td>\n",
       "      <td>20</td>\n",
       "      <td>3</td>\n",
       "      <td>40</td>\n",
       "      <td>0.0909</td>\n",
       "    </tr>\n",
       "    <tr>\n",
       "      <th>1</th>\n",
       "      <td>270</td>\n",
       "      <td>20</td>\n",
       "      <td>5</td>\n",
       "      <td>40</td>\n",
       "      <td>0.1985</td>\n",
       "    </tr>\n",
       "    <tr>\n",
       "      <th>2</th>\n",
       "      <td>270</td>\n",
       "      <td>20</td>\n",
       "      <td>10</td>\n",
       "      <td>40</td>\n",
       "      <td>0.4127</td>\n",
       "    </tr>\n",
       "    <tr>\n",
       "      <th>3</th>\n",
       "      <td>270</td>\n",
       "      <td>20</td>\n",
       "      <td>15</td>\n",
       "      <td>40</td>\n",
       "      <td>0.5885</td>\n",
       "    </tr>\n",
       "    <tr>\n",
       "      <th>4</th>\n",
       "      <td>270</td>\n",
       "      <td>20</td>\n",
       "      <td>20</td>\n",
       "      <td>40</td>\n",
       "      <td>0.7424</td>\n",
       "    </tr>\n",
       "  </tbody>\n",
       "</table>\n",
       "</div>"
      ],
      "text/plain": [
       "   Temperature [°C]  Pressure [Mpa]  Reaction Time [min]  Methanol/Oil  \\\n",
       "0               270              20                    3            40   \n",
       "1               270              20                    5            40   \n",
       "2               270              20                   10            40   \n",
       "3               270              20                   15            40   \n",
       "4               270              20                   20            40   \n",
       "\n",
       "   Experimented Yield [-]  \n",
       "0                  0.0909  \n",
       "1                  0.1985  \n",
       "2                  0.4127  \n",
       "3                  0.5885  \n",
       "4                  0.7424  "
      ]
     },
     "execution_count": 2,
     "metadata": {},
     "output_type": "execute_result"
    }
   ],
   "source": [
    "df=pd.read_csv(\"biodiesel yield.txt\",sep='\\t', header=None, names=[\"Temperature [°C]\",\"Pressure [Mpa]\",\"Reaction Time [min]\",\"Methanol/Oil\",\"Experimented Yield [-]\"])\n",
    "df.head()"
   ]
  },
  {
   "cell_type": "code",
   "execution_count": 3,
   "id": "c9b66f31",
   "metadata": {},
   "outputs": [
    {
     "data": {
      "text/plain": [
       "(42, 5)"
      ]
     },
     "execution_count": 3,
     "metadata": {},
     "output_type": "execute_result"
    }
   ],
   "source": [
    "df.shape"
   ]
  },
  {
   "cell_type": "code",
   "execution_count": 4,
   "id": "730c706d",
   "metadata": {},
   "outputs": [
    {
     "name": "stdout",
     "output_type": "stream",
     "text": [
      "<class 'pandas.core.frame.DataFrame'>\n",
      "RangeIndex: 42 entries, 0 to 41\n",
      "Data columns (total 5 columns):\n",
      " #   Column                  Non-Null Count  Dtype  \n",
      "---  ------                  --------------  -----  \n",
      " 0   Temperature [°C]        42 non-null     int64  \n",
      " 1   Pressure [Mpa]          42 non-null     int64  \n",
      " 2   Reaction Time [min]     42 non-null     int64  \n",
      " 3   Methanol/Oil            42 non-null     int64  \n",
      " 4   Experimented Yield [-]  42 non-null     float64\n",
      "dtypes: float64(1), int64(4)\n",
      "memory usage: 1.8 KB\n"
     ]
    }
   ],
   "source": [
    "df.info()"
   ]
  },
  {
   "cell_type": "code",
   "execution_count": 5,
   "id": "2f5ed29f",
   "metadata": {},
   "outputs": [
    {
     "data": {
      "text/html": [
       "<div>\n",
       "<style scoped>\n",
       "    .dataframe tbody tr th:only-of-type {\n",
       "        vertical-align: middle;\n",
       "    }\n",
       "\n",
       "    .dataframe tbody tr th {\n",
       "        vertical-align: top;\n",
       "    }\n",
       "\n",
       "    .dataframe thead th {\n",
       "        text-align: right;\n",
       "    }\n",
       "</style>\n",
       "<table border=\"1\" class=\"dataframe\">\n",
       "  <thead>\n",
       "    <tr style=\"text-align: right;\">\n",
       "      <th></th>\n",
       "      <th>Temperature [°C]</th>\n",
       "      <th>Pressure [Mpa]</th>\n",
       "      <th>Reaction Time [min]</th>\n",
       "      <th>Methanol/Oil</th>\n",
       "      <th>Experimented Yield [-]</th>\n",
       "    </tr>\n",
       "  </thead>\n",
       "  <tbody>\n",
       "    <tr>\n",
       "      <th>count</th>\n",
       "      <td>42.000000</td>\n",
       "      <td>42.000000</td>\n",
       "      <td>42.000000</td>\n",
       "      <td>42.000000</td>\n",
       "      <td>42.000000</td>\n",
       "    </tr>\n",
       "    <tr>\n",
       "      <th>mean</th>\n",
       "      <td>328.333333</td>\n",
       "      <td>18.333333</td>\n",
       "      <td>15.428571</td>\n",
       "      <td>33.333333</td>\n",
       "      <td>0.685640</td>\n",
       "    </tr>\n",
       "    <tr>\n",
       "      <th>std</th>\n",
       "      <td>40.973916</td>\n",
       "      <td>3.771955</td>\n",
       "      <td>9.507745</td>\n",
       "      <td>9.542374</td>\n",
       "      <td>0.326442</td>\n",
       "    </tr>\n",
       "    <tr>\n",
       "      <th>min</th>\n",
       "      <td>270.000000</td>\n",
       "      <td>10.000000</td>\n",
       "      <td>3.000000</td>\n",
       "      <td>20.000000</td>\n",
       "      <td>0.054100</td>\n",
       "    </tr>\n",
       "    <tr>\n",
       "      <th>25%</th>\n",
       "      <td>300.000000</td>\n",
       "      <td>20.000000</td>\n",
       "      <td>5.000000</td>\n",
       "      <td>20.000000</td>\n",
       "      <td>0.416800</td>\n",
       "    </tr>\n",
       "    <tr>\n",
       "      <th>50%</th>\n",
       "      <td>325.000000</td>\n",
       "      <td>20.000000</td>\n",
       "      <td>15.000000</td>\n",
       "      <td>40.000000</td>\n",
       "      <td>0.766950</td>\n",
       "    </tr>\n",
       "    <tr>\n",
       "      <th>75%</th>\n",
       "      <td>350.000000</td>\n",
       "      <td>20.000000</td>\n",
       "      <td>25.000000</td>\n",
       "      <td>40.000000</td>\n",
       "      <td>1.000000</td>\n",
       "    </tr>\n",
       "    <tr>\n",
       "      <th>max</th>\n",
       "      <td>400.000000</td>\n",
       "      <td>20.000000</td>\n",
       "      <td>30.000000</td>\n",
       "      <td>40.000000</td>\n",
       "      <td>1.000000</td>\n",
       "    </tr>\n",
       "  </tbody>\n",
       "</table>\n",
       "</div>"
      ],
      "text/plain": [
       "       Temperature [°C]  Pressure [Mpa]  Reaction Time [min]  Methanol/Oil  \\\n",
       "count         42.000000       42.000000            42.000000     42.000000   \n",
       "mean         328.333333       18.333333            15.428571     33.333333   \n",
       "std           40.973916        3.771955             9.507745      9.542374   \n",
       "min          270.000000       10.000000             3.000000     20.000000   \n",
       "25%          300.000000       20.000000             5.000000     20.000000   \n",
       "50%          325.000000       20.000000            15.000000     40.000000   \n",
       "75%          350.000000       20.000000            25.000000     40.000000   \n",
       "max          400.000000       20.000000            30.000000     40.000000   \n",
       "\n",
       "       Experimented Yield [-]  \n",
       "count               42.000000  \n",
       "mean                 0.685640  \n",
       "std                  0.326442  \n",
       "min                  0.054100  \n",
       "25%                  0.416800  \n",
       "50%                  0.766950  \n",
       "75%                  1.000000  \n",
       "max                  1.000000  "
      ]
     },
     "execution_count": 5,
     "metadata": {},
     "output_type": "execute_result"
    }
   ],
   "source": [
    "df.describe()"
   ]
  },
  {
   "cell_type": "code",
   "execution_count": 6,
   "id": "96e30a91",
   "metadata": {},
   "outputs": [
    {
     "data": {
      "text/plain": [
       "Temperature [°C]          0\n",
       "Pressure [Mpa]            0\n",
       "Reaction Time [min]       0\n",
       "Methanol/Oil              0\n",
       "Experimented Yield [-]    0\n",
       "dtype: int64"
      ]
     },
     "execution_count": 6,
     "metadata": {},
     "output_type": "execute_result"
    }
   ],
   "source": [
    "df.isnull().sum()"
   ]
  },
  {
   "cell_type": "code",
   "execution_count": 116,
   "id": "31c2c9db",
   "metadata": {},
   "outputs": [
    {
     "data": {
      "image/png": "[encoded data removed]",
      "text/plain": [
       "<Figure size 1080x576 with 2 Axes>"
      ]
     },
     "metadata": {
      "needs_background": "light"
     },
     "output_type": "display_data"
    }
   ],
   "source": [
    "plt.figure(figsize=(15,8))\n",
    "sns.heatmap(df.corr(), annot=True)\n",
    "plt.show()"
   ]
  },
  {
   "cell_type": "code",
   "execution_count": 7,
   "id": "fc18f71d",
   "metadata": {},
   "outputs": [],
   "source": [
    "def get_preds(y_test, y_preds):\n",
    "    y_test=pd.DataFrame(y_test)\n",
    "    y_test.rename(columns={0:'Actual'}, inplace=True)\n",
    "    y_preds=pd.DataFrame(y_preds)\n",
    "    y_preds.rename(columns={0:'Predicted'}, inplace=True)\n",
    "    predictions=pd.concat([y_test, y_preds], axis=1)\n",
    "    return predictions    "
   ]
  },
  {
   "cell_type": "code",
   "execution_count": 9,
   "id": "927fff33",
   "metadata": {},
   "outputs": [],
   "source": [
    "from sklearn.model_selection import train_test_split, cross_val_score,KFold, GridSearchCV\n",
    "from sklearn.svm import SVR\n",
    "from sklearn.preprocessing import StandardScaler\n",
    "from sklearn.metrics import mean_squared_error\n",
    "from sklearn.metrics import r2_score, mean_absolute_error,mean_squared_error"
   ]
  },
  {
   "cell_type": "code",
   "execution_count": 14,
   "id": "5960e7df",
   "metadata": {},
   "outputs": [
    {
     "data": {
      "text/html": [
       "<div>\n",
       "<style scoped>\n",
       "    .dataframe tbody tr th:only-of-type {\n",
       "        vertical-align: middle;\n",
       "    }\n",
       "\n",
       "    .dataframe tbody tr th {\n",
       "        vertical-align: top;\n",
       "    }\n",
       "\n",
       "    .dataframe thead th {\n",
       "        text-align: right;\n",
       "    }\n",
       "</style>\n",
       "<table border=\"1\" class=\"dataframe\">\n",
       "  <thead>\n",
       "    <tr style=\"text-align: right;\">\n",
       "      <th></th>\n",
       "      <th>Temperature [°C]</th>\n",
       "      <th>Pressure [Mpa]</th>\n",
       "      <th>Reaction Time [min]</th>\n",
       "      <th>Methanol/Oil</th>\n",
       "      <th>Experimented Yield [-]</th>\n",
       "    </tr>\n",
       "  </thead>\n",
       "  <tbody>\n",
       "    <tr>\n",
       "      <th>36</th>\n",
       "      <td>325</td>\n",
       "      <td>20</td>\n",
       "      <td>5</td>\n",
       "      <td>20</td>\n",
       "      <td>0.2514</td>\n",
       "    </tr>\n",
       "    <tr>\n",
       "      <th>3</th>\n",
       "      <td>270</td>\n",
       "      <td>20</td>\n",
       "      <td>15</td>\n",
       "      <td>40</td>\n",
       "      <td>0.5885</td>\n",
       "    </tr>\n",
       "    <tr>\n",
       "      <th>12</th>\n",
       "      <td>300</td>\n",
       "      <td>20</td>\n",
       "      <td>25</td>\n",
       "      <td>40</td>\n",
       "      <td>1.0000</td>\n",
       "    </tr>\n",
       "    <tr>\n",
       "      <th>23</th>\n",
       "      <td>400</td>\n",
       "      <td>20</td>\n",
       "      <td>10</td>\n",
       "      <td>40</td>\n",
       "      <td>1.0000</td>\n",
       "    </tr>\n",
       "    <tr>\n",
       "      <th>29</th>\n",
       "      <td>325</td>\n",
       "      <td>10</td>\n",
       "      <td>5</td>\n",
       "      <td>20</td>\n",
       "      <td>0.1036</td>\n",
       "    </tr>\n",
       "  </tbody>\n",
       "</table>\n",
       "</div>"
      ],
      "text/plain": [
       "    Temperature [°C]  Pressure [Mpa]  Reaction Time [min]  Methanol/Oil  \\\n",
       "36               325              20                    5            20   \n",
       "3                270              20                   15            40   \n",
       "12               300              20                   25            40   \n",
       "23               400              20                   10            40   \n",
       "29               325              10                    5            20   \n",
       "\n",
       "    Experimented Yield [-]  \n",
       "36                  0.2514  \n",
       "3                   0.5885  \n",
       "12                  1.0000  \n",
       "23                  1.0000  \n",
       "29                  0.1036  "
      ]
     },
     "execution_count": 14,
     "metadata": {},
     "output_type": "execute_result"
    }
   ],
   "source": [
    "df1=df.sample(frac=1)\n",
    "df1.head()"
   ]
  },
  {
   "cell_type": "code",
   "execution_count": 15,
   "id": "b0be8c98",
   "metadata": {},
   "outputs": [
    {
     "data": {
      "text/html": [
       "<div>\n",
       "<style scoped>\n",
       "    .dataframe tbody tr th:only-of-type {\n",
       "        vertical-align: middle;\n",
       "    }\n",
       "\n",
       "    .dataframe tbody tr th {\n",
       "        vertical-align: top;\n",
       "    }\n",
       "\n",
       "    .dataframe thead th {\n",
       "        text-align: right;\n",
       "    }\n",
       "</style>\n",
       "<table border=\"1\" class=\"dataframe\">\n",
       "  <thead>\n",
       "    <tr style=\"text-align: right;\">\n",
       "      <th></th>\n",
       "      <th>Temperature [°C]</th>\n",
       "      <th>Pressure [Mpa]</th>\n",
       "      <th>Reaction Time [min]</th>\n",
       "      <th>Methanol/Oil</th>\n",
       "      <th>Experimented Yield [-]</th>\n",
       "    </tr>\n",
       "  </thead>\n",
       "  <tbody>\n",
       "    <tr>\n",
       "      <th>0</th>\n",
       "      <td>-0.082339</td>\n",
       "      <td>0.447214</td>\n",
       "      <td>-1.110146</td>\n",
       "      <td>-1.414214</td>\n",
       "      <td>-1.346347</td>\n",
       "    </tr>\n",
       "    <tr>\n",
       "      <th>1</th>\n",
       "      <td>-1.440927</td>\n",
       "      <td>0.447214</td>\n",
       "      <td>-0.045622</td>\n",
       "      <td>0.707107</td>\n",
       "      <td>-0.301181</td>\n",
       "    </tr>\n",
       "    <tr>\n",
       "      <th>2</th>\n",
       "      <td>-0.699879</td>\n",
       "      <td>0.447214</td>\n",
       "      <td>1.018901</td>\n",
       "      <td>0.707107</td>\n",
       "      <td>0.974661</td>\n",
       "    </tr>\n",
       "    <tr>\n",
       "      <th>3</th>\n",
       "      <td>1.770282</td>\n",
       "      <td>0.447214</td>\n",
       "      <td>-0.577884</td>\n",
       "      <td>0.707107</td>\n",
       "      <td>0.974661</td>\n",
       "    </tr>\n",
       "    <tr>\n",
       "      <th>4</th>\n",
       "      <td>-0.082339</td>\n",
       "      <td>-2.236068</td>\n",
       "      <td>-1.110146</td>\n",
       "      <td>-1.414214</td>\n",
       "      <td>-1.804596</td>\n",
       "    </tr>\n",
       "  </tbody>\n",
       "</table>\n",
       "</div>"
      ],
      "text/plain": [
       "   Temperature [°C]  Pressure [Mpa]  Reaction Time [min]  Methanol/Oil  \\\n",
       "0         -0.082339        0.447214            -1.110146     -1.414214   \n",
       "1         -1.440927        0.447214            -0.045622      0.707107   \n",
       "2         -0.699879        0.447214             1.018901      0.707107   \n",
       "3          1.770282        0.447214            -0.577884      0.707107   \n",
       "4         -0.082339       -2.236068            -1.110146     -1.414214   \n",
       "\n",
       "   Experimented Yield [-]  \n",
       "0               -1.346347  \n",
       "1               -0.301181  \n",
       "2                0.974661  \n",
       "3                0.974661  \n",
       "4               -1.804596  "
      ]
     },
     "execution_count": 15,
     "metadata": {},
     "output_type": "execute_result"
    }
   ],
   "source": [
    "scale_df=StandardScaler().fit_transform(df1)\n",
    "scale_df=pd.DataFrame(scale_df, columns=df.columns)\n",
    "scale_df.head()"
   ]
  },
  {
   "cell_type": "code",
   "execution_count": 17,
   "id": "57c89d29",
   "metadata": {},
   "outputs": [],
   "source": [
    "X=scale_df.drop(columns=\"Experimented Yield [-]\")\n",
    "y=scale_df['Experimented Yield [-]']"
   ]
  },
  {
   "cell_type": "code",
   "execution_count": 18,
   "id": "f799e26f",
   "metadata": {},
   "outputs": [
    {
     "data": {
      "text/html": [
       "<div>\n",
       "<style scoped>\n",
       "    .dataframe tbody tr th:only-of-type {\n",
       "        vertical-align: middle;\n",
       "    }\n",
       "\n",
       "    .dataframe tbody tr th {\n",
       "        vertical-align: top;\n",
       "    }\n",
       "\n",
       "    .dataframe thead th {\n",
       "        text-align: right;\n",
       "    }\n",
       "</style>\n",
       "<table border=\"1\" class=\"dataframe\">\n",
       "  <thead>\n",
       "    <tr style=\"text-align: right;\">\n",
       "      <th></th>\n",
       "      <th>Temperature [°C]</th>\n",
       "      <th>Pressure [Mpa]</th>\n",
       "      <th>Reaction Time [min]</th>\n",
       "      <th>Methanol/Oil</th>\n",
       "    </tr>\n",
       "  </thead>\n",
       "  <tbody>\n",
       "    <tr>\n",
       "      <th>0</th>\n",
       "      <td>-0.082339</td>\n",
       "      <td>0.447214</td>\n",
       "      <td>-1.110146</td>\n",
       "      <td>-1.414214</td>\n",
       "    </tr>\n",
       "    <tr>\n",
       "      <th>1</th>\n",
       "      <td>-1.440927</td>\n",
       "      <td>0.447214</td>\n",
       "      <td>-0.045622</td>\n",
       "      <td>0.707107</td>\n",
       "    </tr>\n",
       "    <tr>\n",
       "      <th>2</th>\n",
       "      <td>-0.699879</td>\n",
       "      <td>0.447214</td>\n",
       "      <td>1.018901</td>\n",
       "      <td>0.707107</td>\n",
       "    </tr>\n",
       "    <tr>\n",
       "      <th>3</th>\n",
       "      <td>1.770282</td>\n",
       "      <td>0.447214</td>\n",
       "      <td>-0.577884</td>\n",
       "      <td>0.707107</td>\n",
       "    </tr>\n",
       "    <tr>\n",
       "      <th>4</th>\n",
       "      <td>-0.082339</td>\n",
       "      <td>-2.236068</td>\n",
       "      <td>-1.110146</td>\n",
       "      <td>-1.414214</td>\n",
       "    </tr>\n",
       "  </tbody>\n",
       "</table>\n",
       "</div>"
      ],
      "text/plain": [
       "   Temperature [°C]  Pressure [Mpa]  Reaction Time [min]  Methanol/Oil\n",
       "0         -0.082339        0.447214            -1.110146     -1.414214\n",
       "1         -1.440927        0.447214            -0.045622      0.707107\n",
       "2         -0.699879        0.447214             1.018901      0.707107\n",
       "3          1.770282        0.447214            -0.577884      0.707107\n",
       "4         -0.082339       -2.236068            -1.110146     -1.414214"
      ]
     },
     "execution_count": 18,
     "metadata": {},
     "output_type": "execute_result"
    }
   ],
   "source": [
    "X.head()"
   ]
  },
  {
   "cell_type": "code",
   "execution_count": 19,
   "id": "00ed687b",
   "metadata": {},
   "outputs": [
    {
     "data": {
      "text/plain": [
       "0   -1.346347\n",
       "1   -0.301181\n",
       "2    0.974661\n",
       "3    0.974661\n",
       "4   -1.804596\n",
       "Name: Experimented Yield [-], dtype: float64"
      ]
     },
     "execution_count": 19,
     "metadata": {},
     "output_type": "execute_result"
    }
   ],
   "source": [
    "y.head()"
   ]
  },
  {
   "cell_type": "code",
   "execution_count": 20,
   "id": "4f218a9d",
   "metadata": {},
   "outputs": [],
   "source": [
    "X_train1, X_test1, y_train1, y_test1= train_test_split(X, y, test_size=0.3, random_state=42)"
   ]
  },
  {
   "cell_type": "markdown",
   "id": "6386f386",
   "metadata": {},
   "source": [
    "## SUPPORT VECTOR MACHINES"
   ]
  },
  {
   "cell_type": "code",
   "execution_count": 21,
   "id": "ffb7623e",
   "metadata": {},
   "outputs": [
    {
     "name": "stdout",
     "output_type": "stream",
     "text": [
      "{'kernel': ['rbf', 'linear', 'poly', 'sigmoid'], 'C': [1, 10, 100, 1000, 10000, 100000], 'gamma': [0.0001, 0.001, 0.01, 0.1, 0.2, 0.5, 0.6, 0.9]}\n"
     ]
    }
   ],
   "source": [
    "k=[\"rbf\", \"linear\", \"poly\", \"sigmoid\"]\n",
    "c=[1,10,100, 1000, 10000,100000]\n",
    "g=[1e-4,1e-3,0.01,0.1,0.2,0.5,0.6,0.9]\n",
    "param_grid=dict(kernel=k,C=c, gamma=g)\n",
    "print(param_grid)"
   ]
  },
  {
   "cell_type": "code",
   "execution_count": 22,
   "id": "9fde48d7",
   "metadata": {},
   "outputs": [],
   "source": [
    "from sklearn.model_selection import cross_val_score,KFold, GridSearchCV\n",
    "from sklearn.svm import SVR\n",
    "from sklearn.metrics import mean_squared_error, make_scorer\n",
    "from sklearn.metrics import r2_score, mean_absolute_error"
   ]
  },
  {
   "cell_type": "code",
   "execution_count": 23,
   "id": "4c545c3a",
   "metadata": {},
   "outputs": [
    {
     "data": {
      "text/plain": [
       "{'C': 1000, 'gamma': 0.01, 'kernel': 'rbf'}"
      ]
     },
     "execution_count": 23,
     "metadata": {},
     "output_type": "execute_result"
    }
   ],
   "source": [
    "svr=SVR(epsilon=0.01)\n",
    "scorer=make_scorer(r2_score,greater_is_better=True)\n",
    "grid=GridSearchCV(svr, param_grid, cv=5, scoring=scorer)\n",
    "grid.fit(X_train1, y_train1.ravel())\n",
    "svr_params=grid.best_params_\n",
    "svr_params"
   ]
  },
  {
   "cell_type": "code",
   "execution_count": 24,
   "id": "c41e14ff",
   "metadata": {},
   "outputs": [
    {
     "data": {
      "text/plain": [
       "array([-0.22030289, -1.29568233, -1.77730787,  0.14242587, -1.76775495,\n",
       "       -0.95807633,  1.0909596 ,  0.81843033, -0.47485903,  1.14085172,\n",
       "        0.56177798,  1.04330746,  0.49751879])"
      ]
     },
     "execution_count": 24,
     "metadata": {},
     "output_type": "execute_result"
    }
   ],
   "source": [
    "svr=SVR(kernel=\"rbf\", C=1000, gamma=0.01, epsilon=0.01)\n",
    "svr.fit(X_train1, y_train1.ravel())\n",
    "y_preds=svr.predict(X_test1)\n",
    "y_preds"
   ]
  },
  {
   "cell_type": "code",
   "execution_count": 176,
   "id": "937677fe",
   "metadata": {},
   "outputs": [
    {
     "data": {
      "text/plain": [
       "0.9635996680841044"
      ]
     },
     "execution_count": 176,
     "metadata": {},
     "output_type": "execute_result"
    }
   ],
   "source": [
    "r2_score(y_test1,y_preds)"
   ]
  },
  {
   "cell_type": "code",
   "execution_count": 177,
   "id": "7ace03ea",
   "metadata": {},
   "outputs": [
    {
     "data": {
      "text/plain": [
       "0.03782770340618557"
      ]
     },
     "execution_count": 177,
     "metadata": {},
     "output_type": "execute_result"
    }
   ],
   "source": [
    "mean_squared_error(y_test1,y_preds)"
   ]
  },
  {
   "cell_type": "code",
   "execution_count": null,
   "id": "bcef97be",
   "metadata": {},
   "outputs": [],
   "source": []
  },
  {
   "cell_type": "markdown",
   "id": "5616ad42",
   "metadata": {},
   "source": [
    "## EXTREME LEARNING MACHINE"
   ]
  },
  {
   "cell_type": "code",
   "execution_count": 133,
   "id": "3251b6a8",
   "metadata": {},
   "outputs": [],
   "source": [
    "X1=df.iloc[:, 1:-1].values\n",
    "y1=df.iloc[:, -1].values.reshape(-1,1)\n",
    "X_train, X_test, y_train, y_test= train_test_split(X1, y1, test_size=0.3, random_state=42)\n",
    "sc=StandardScaler()\n",
    "X_train=sc.fit_transform(X_train)\n",
    "X_test=sc.transform(X_test)\n",
    "sc_y=StandardScaler()\n",
    "y_train=sc_y.fit_transform(y_train)\n",
    "y_test=sc_y.transform(y_test)"
   ]
  },
  {
   "cell_type": "code",
   "execution_count": 134,
   "id": "93089744",
   "metadata": {},
   "outputs": [],
   "source": [
    "from skelm import ELMRegressor\n",
    "import warnings\n",
    "warnings.filterwarnings(action=\"ignore\")"
   ]
  },
  {
   "cell_type": "code",
   "execution_count": 128,
   "id": "8af1aa92",
   "metadata": {},
   "outputs": [],
   "source": [
    "elm=ELMRegressor(batch_size=100, random_state=42)"
   ]
  },
  {
   "cell_type": "code",
   "execution_count": 135,
   "id": "04c2a901",
   "metadata": {},
   "outputs": [
    {
     "data": {
      "text/html": [
       "<style>#sk-container-id-6 {color: black;background-color: white;}#sk-container-id-6 pre{padding: 0;}#sk-container-id-6 div.sk-toggleable {background-color: white;}#sk-container-id-6 label.sk-toggleable__label {cursor: pointer;display: block;width: 100%;margin-bottom: 0;padding: 0.3em;box-sizing: border-box;text-align: center;}#sk-container-id-6 label.sk-toggleable__label-arrow:before {content: \"▸\";float: left;margin-right: 0.25em;color: #696969;}#sk-container-id-6 label.sk-toggleable__label-arrow:hover:before {color: black;}#sk-container-id-6 div.sk-estimator:hover label.sk-toggleable__label-arrow:before {color: black;}#sk-container-id-6 div.sk-toggleable__content {max-height: 0;max-width: 0;overflow: hidden;text-align: left;background-color: #f0f8ff;}#sk-container-id-6 div.sk-toggleable__content pre {margin: 0.2em;color: black;border-radius: 0.25em;background-color: #f0f8ff;}#sk-container-id-6 input.sk-toggleable__control:checked~div.sk-toggleable__content {max-height: 200px;max-width: 100%;overflow: auto;}#sk-container-id-6 input.sk-toggleable__control:checked~label.sk-toggleable__label-arrow:before {content: \"▾\";}#sk-container-id-6 div.sk-estimator input.sk-toggleable__control:checked~label.sk-toggleable__label {background-color: #d4ebff;}#sk-container-id-6 div.sk-label input.sk-toggleable__control:checked~label.sk-toggleable__label {background-color: #d4ebff;}#sk-container-id-6 input.sk-hidden--visually {border: 0;clip: rect(1px 1px 1px 1px);clip: rect(1px, 1px, 1px, 1px);height: 1px;margin: -1px;overflow: hidden;padding: 0;position: absolute;width: 1px;}#sk-container-id-6 div.sk-estimator {font-family: monospace;background-color: #f0f8ff;border: 1px dotted black;border-radius: 0.25em;box-sizing: border-box;margin-bottom: 0.5em;}#sk-container-id-6 div.sk-estimator:hover {background-color: #d4ebff;}#sk-container-id-6 div.sk-parallel-item::after {content: \"\";width: 100%;border-bottom: 1px solid gray;flex-grow: 1;}#sk-container-id-6 div.sk-label:hover label.sk-toggleable__label {background-color: #d4ebff;}#sk-container-id-6 div.sk-serial::before {content: \"\";position: absolute;border-left: 1px solid gray;box-sizing: border-box;top: 0;bottom: 0;left: 50%;z-index: 0;}#sk-container-id-6 div.sk-serial {display: flex;flex-direction: column;align-items: center;background-color: white;padding-right: 0.2em;padding-left: 0.2em;position: relative;}#sk-container-id-6 div.sk-item {position: relative;z-index: 1;}#sk-container-id-6 div.sk-parallel {display: flex;align-items: stretch;justify-content: center;background-color: white;position: relative;}#sk-container-id-6 div.sk-item::before, #sk-container-id-6 div.sk-parallel-item::before {content: \"\";position: absolute;border-left: 1px solid gray;box-sizing: border-box;top: 0;bottom: 0;left: 50%;z-index: -1;}#sk-container-id-6 div.sk-parallel-item {display: flex;flex-direction: column;z-index: 1;position: relative;background-color: white;}#sk-container-id-6 div.sk-parallel-item:first-child::after {align-self: flex-end;width: 50%;}#sk-container-id-6 div.sk-parallel-item:last-child::after {align-self: flex-start;width: 50%;}#sk-container-id-6 div.sk-parallel-item:only-child::after {width: 0;}#sk-container-id-6 div.sk-dashed-wrapped {border: 1px dashed gray;margin: 0 0.4em 0.5em 0.4em;box-sizing: border-box;padding-bottom: 0.4em;background-color: white;}#sk-container-id-6 div.sk-label label {font-family: monospace;font-weight: bold;display: inline-block;line-height: 1.2em;}#sk-container-id-6 div.sk-label-container {text-align: center;}#sk-container-id-6 div.sk-container {/* jupyter's `normalize.less` sets `[hidden] { display: none; }` but bootstrap.min.css set `[hidden] { display: none !important; }` so we also need the `!important` here to be able to override the default hidden behavior on the sphinx rendered scikit-learn.org. See: https://github.com/scikit-learn/scikit-learn/issues/21755 */display: inline-block !important;position: relative;}#sk-container-id-6 div.sk-text-repr-fallback {display: none;}</style><div id=\"sk-container-id-6\" class=\"sk-top-container\"><div class=\"sk-text-repr-fallback\"><pre>ELMRegressor(batch_size=100, random_state=42)</pre><b>In a Jupyter environment, please rerun this cell to show the HTML representation or trust the notebook. <br />On GitHub, the HTML representation is unable to render, please try loading this page with nbviewer.org.</b></div><div class=\"sk-container\" hidden><div class=\"sk-item\"><div class=\"sk-estimator sk-toggleable\"><input class=\"sk-toggleable__control sk-hidden--visually\" id=\"sk-estimator-id-6\" type=\"checkbox\" checked><label for=\"sk-estimator-id-6\" class=\"sk-toggleable__label sk-toggleable__label-arrow\">ELMRegressor</label><div class=\"sk-toggleable__content\"><pre>ELMRegressor(batch_size=100, random_state=42)</pre></div></div></div></div></div>"
      ],
      "text/plain": [
       "ELMRegressor(batch_size=100, random_state=42)"
      ]
     },
     "execution_count": 135,
     "metadata": {},
     "output_type": "execute_result"
    }
   ],
   "source": [
    "elm.fit(X_train, y_train)"
   ]
  },
  {
   "cell_type": "code",
   "execution_count": 136,
   "id": "8385a0bf",
   "metadata": {},
   "outputs": [],
   "source": [
    "pred=elm.fit(X_train, y_train).predict(X_test)"
   ]
  },
  {
   "cell_type": "code",
   "execution_count": 137,
   "id": "651a1433",
   "metadata": {},
   "outputs": [
    {
     "data": {
      "text/plain": [
       "array([[ 0.90938887],\n",
       "       [ 1.08053905],\n",
       "       [-0.05232802],\n",
       "       [ 1.01417277],\n",
       "       [ 0.90938887],\n",
       "       [-0.31633032],\n",
       "       [ 1.01417277],\n",
       "       [-1.62087546],\n",
       "       [-1.43214764],\n",
       "       [ 1.08053905],\n",
       "       [ 1.08053905],\n",
       "       [ 1.01417277],\n",
       "       [ 0.68805387]])"
      ]
     },
     "execution_count": 137,
     "metadata": {},
     "output_type": "execute_result"
    }
   ],
   "source": [
    "pred"
   ]
  },
  {
   "cell_type": "code",
   "execution_count": 138,
   "id": "8ff6baca",
   "metadata": {},
   "outputs": [
    {
     "data": {
      "text/plain": [
       "0.9143085687714477"
      ]
     },
     "execution_count": 138,
     "metadata": {},
     "output_type": "execute_result"
    }
   ],
   "source": [
    "r2_score(y_test, pred)"
   ]
  },
  {
   "cell_type": "code",
   "execution_count": null,
   "id": "5a699319",
   "metadata": {},
   "outputs": [],
   "source": []
  },
  {
   "cell_type": "code",
   "execution_count": null,
   "id": "999edc69",
   "metadata": {},
   "outputs": [],
   "source": []
  },
  {
   "cell_type": "markdown",
   "id": "2b8c578a",
   "metadata": {},
   "source": [
    "## RANDOM FOREST REGRESSOR"
   ]
  },
  {
   "cell_type": "code",
   "execution_count": 139,
   "id": "a67f460e",
   "metadata": {},
   "outputs": [],
   "source": [
    "from sklearn.ensemble import RandomForestRegressor"
   ]
  },
  {
   "cell_type": "code",
   "execution_count": 140,
   "id": "da70fc53",
   "metadata": {},
   "outputs": [],
   "source": [
    "param_grid=[{\"n_estimators\" : [3,10,30,100,300],\n",
    "            \"max_features\" : [2,4,6,8,10,12,14]},\n",
    "            {\"bootstrap\" : [False], \"n_estimators\" : [3,10,12],\n",
    "            \"max_features\" : [2,3,4]}\n",
    "           ]"
   ]
  },
  {
   "cell_type": "code",
   "execution_count": 141,
   "id": "219ed3ca",
   "metadata": {},
   "outputs": [],
   "source": [
    "forest_regressor = RandomForestRegressor({\"bootstrap\" : True, \"ccp_alpha\"  :0.0, \"criterion\" : \"r2\",\n",
    "                                         \"max_depth\" : None, \"max_features\":8, \"max_leaf_nodes\" : None,\n",
    "                                         \"max_samples\" : None, \"min_impurity_decrease\" : 0.0,\n",
    "                                         \"min_inpurity_split\" : None, \"min_samples_leaf\" : 1,\n",
    "                                         \"min_samples_split\" : 2, \"min_weight_fraction_leaf\": 0.0,\n",
    "                                         \"n_estimators\" : 300, \"n_jobs\" : None, \"oob_score\": False,\n",
    "                                         \"random_state\" : None, \"Verbose\" : 0, \"warm_start\": False})"
   ]
  },
  {
   "cell_type": "code",
   "execution_count": 142,
   "id": "8c21abea",
   "metadata": {},
   "outputs": [
    {
     "data": {
      "text/plain": [
       "array([ 0.93315587,  0.91753986, -1.23451371,  0.66247492, -0.20571734,\n",
       "        0.18209918, -0.21346851, -0.85725944, -0.49100148,  0.8798382 ,\n",
       "       -1.69528417, -1.21459838,  0.66268162])"
      ]
     },
     "execution_count": 142,
     "metadata": {},
     "output_type": "execute_result"
    }
   ],
   "source": [
    "grid_search=GridSearchCV(forest_regressor, param_grid, cv=5,\n",
    "                        return_train_score=True,refit=True)\n",
    "y_pred_ran=grid_search.fit(X_train1, y_train1.ravel()).predict(X_test1)\n",
    "y_pred_ran"
   ]
  },
  {
   "cell_type": "code",
   "execution_count": 143,
   "id": "acb3a3ce",
   "metadata": {},
   "outputs": [
    {
     "data": {
      "text/plain": [
       "0.9628115986058652"
      ]
     },
     "execution_count": 143,
     "metadata": {},
     "output_type": "execute_result"
    }
   ],
   "source": [
    "r2_score(y_test1, y_pred_ran)"
   ]
  },
  {
   "cell_type": "markdown",
   "id": "4b694da0",
   "metadata": {},
   "source": [
    "## NEURAL NETWORK"
   ]
  },
  {
   "cell_type": "code",
   "execution_count": 145,
   "id": "1f03ff57",
   "metadata": {},
   "outputs": [],
   "source": [
    "import tensorflow as tf\n",
    "from keras.wrappers.scikit_learn import KerasRegressor"
   ]
  },
  {
   "cell_type": "code",
   "execution_count": 146,
   "id": "4c84a29b",
   "metadata": {},
   "outputs": [],
   "source": [
    "ann=tf.keras.models.Sequential()"
   ]
  },
  {
   "cell_type": "code",
   "execution_count": 147,
   "id": "a7d38246",
   "metadata": {},
   "outputs": [],
   "source": [
    "ann.add(tf.keras.layers.Dense(units=256, activation='relu'))\n",
    "ann.add(tf.keras.layers.Dense(units=256, activation='relu'))\n",
    "ann.add(tf.keras.layers.Dense(units=256, activation='relu'))\n",
    "ann.add(tf.keras.layers.Dense(units=256, activation='relu'))"
   ]
  },
  {
   "cell_type": "code",
   "execution_count": 148,
   "id": "f93ce6f1",
   "metadata": {},
   "outputs": [],
   "source": [
    "ann.add(tf.keras.layers.Dense(units=1, activation='linear'))"
   ]
  },
  {
   "cell_type": "code",
   "execution_count": 149,
   "id": "c41d0898",
   "metadata": {},
   "outputs": [],
   "source": [
    "ann.compile(loss='mean_squared_error', optimizer='adam', metrics=['mean_squared_error'])"
   ]
  },
  {
   "cell_type": "code",
   "execution_count": 150,
   "id": "739a411f",
   "metadata": {},
   "outputs": [],
   "source": [
    "callback = tf.keras.callbacks.EarlyStopping(monitor='loss', patience=10)"
   ]
  },
  {
   "cell_type": "code",
   "execution_count": 151,
   "id": "60a7662b",
   "metadata": {},
   "outputs": [
    {
     "name": "stdout",
     "output_type": "stream",
     "text": [
      "Epoch 1/300\n",
      "1/1 [==============================] - 2s 2s/step - loss: 0.9607 - mean_squared_error: 0.9607 - val_loss: 0.7629 - val_mean_squared_error: 0.7629\n",
      "Epoch 2/300\n",
      "1/1 [==============================] - 0s 55ms/step - loss: 0.7629 - mean_squared_error: 0.7629 - val_loss: 0.5897 - val_mean_squared_error: 0.5897\n",
      "Epoch 3/300\n",
      "1/1 [==============================] - 0s 55ms/step - loss: 0.5897 - mean_squared_error: 0.5897 - val_loss: 0.4242 - val_mean_squared_error: 0.4242\n",
      "Epoch 4/300\n",
      "1/1 [==============================] - 0s 61ms/step - loss: 0.4242 - mean_squared_error: 0.4242 - val_loss: 0.2780 - val_mean_squared_error: 0.2780\n",
      "Epoch 5/300\n",
      "1/1 [==============================] - 0s 57ms/step - loss: 0.2780 - mean_squared_error: 0.2780 - val_loss: 0.1780 - val_mean_squared_error: 0.1780\n",
      "Epoch 6/300\n",
      "1/1 [==============================] - 0s 58ms/step - loss: 0.1780 - mean_squared_error: 0.1780 - val_loss: 0.1568 - val_mean_squared_error: 0.1568\n",
      "Epoch 7/300\n",
      "1/1 [==============================] - 0s 58ms/step - loss: 0.1568 - mean_squared_error: 0.1568 - val_loss: 0.1789 - val_mean_squared_error: 0.1789\n",
      "Epoch 8/300\n",
      "1/1 [==============================] - 0s 67ms/step - loss: 0.1789 - mean_squared_error: 0.1789 - val_loss: 0.1715 - val_mean_squared_error: 0.1715\n",
      "Epoch 9/300\n",
      "1/1 [==============================] - 0s 62ms/step - loss: 0.1715 - mean_squared_error: 0.1715 - val_loss: 0.1285 - val_mean_squared_error: 0.1285\n",
      "Epoch 10/300\n",
      "1/1 [==============================] - 0s 61ms/step - loss: 0.1285 - mean_squared_error: 0.1285 - val_loss: 0.0845 - val_mean_squared_error: 0.0845\n",
      "Epoch 11/300\n",
      "1/1 [==============================] - 0s 60ms/step - loss: 0.0845 - mean_squared_error: 0.0845 - val_loss: 0.0683 - val_mean_squared_error: 0.0683\n",
      "Epoch 12/300\n",
      "1/1 [==============================] - 0s 54ms/step - loss: 0.0683 - mean_squared_error: 0.0683 - val_loss: 0.0710 - val_mean_squared_error: 0.0710\n",
      "Epoch 13/300\n",
      "1/1 [==============================] - 0s 62ms/step - loss: 0.0710 - mean_squared_error: 0.0710 - val_loss: 0.0738 - val_mean_squared_error: 0.0738\n",
      "Epoch 14/300\n",
      "1/1 [==============================] - 0s 60ms/step - loss: 0.0738 - mean_squared_error: 0.0738 - val_loss: 0.0714 - val_mean_squared_error: 0.0714\n",
      "Epoch 15/300\n",
      "1/1 [==============================] - 0s 57ms/step - loss: 0.0714 - mean_squared_error: 0.0714 - val_loss: 0.0629 - val_mean_squared_error: 0.0629\n",
      "Epoch 16/300\n",
      "1/1 [==============================] - 0s 57ms/step - loss: 0.0629 - mean_squared_error: 0.0629 - val_loss: 0.0494 - val_mean_squared_error: 0.0494\n",
      "Epoch 17/300\n",
      "1/1 [==============================] - 0s 60ms/step - loss: 0.0494 - mean_squared_error: 0.0494 - val_loss: 0.0371 - val_mean_squared_error: 0.0371\n",
      "Epoch 18/300\n",
      "1/1 [==============================] - 0s 55ms/step - loss: 0.0371 - mean_squared_error: 0.0371 - val_loss: 0.0304 - val_mean_squared_error: 0.0304\n",
      "Epoch 19/300\n",
      "1/1 [==============================] - 0s 60ms/step - loss: 0.0304 - mean_squared_error: 0.0304 - val_loss: 0.0266 - val_mean_squared_error: 0.0266\n",
      "Epoch 20/300\n",
      "1/1 [==============================] - 0s 54ms/step - loss: 0.0266 - mean_squared_error: 0.0266 - val_loss: 0.0249 - val_mean_squared_error: 0.0249\n",
      "Epoch 21/300\n",
      "1/1 [==============================] - 0s 61ms/step - loss: 0.0249 - mean_squared_error: 0.0249 - val_loss: 0.0236 - val_mean_squared_error: 0.0236\n",
      "Epoch 22/300\n",
      "1/1 [==============================] - 0s 65ms/step - loss: 0.0236 - mean_squared_error: 0.0236 - val_loss: 0.0201 - val_mean_squared_error: 0.0201\n",
      "Epoch 23/300\n",
      "1/1 [==============================] - 0s 73ms/step - loss: 0.0201 - mean_squared_error: 0.0201 - val_loss: 0.0168 - val_mean_squared_error: 0.0168\n",
      "Epoch 24/300\n",
      "1/1 [==============================] - 0s 62ms/step - loss: 0.0168 - mean_squared_error: 0.0168 - val_loss: 0.0140 - val_mean_squared_error: 0.0140\n",
      "Epoch 25/300\n",
      "1/1 [==============================] - 0s 71ms/step - loss: 0.0140 - mean_squared_error: 0.0140 - val_loss: 0.0125 - val_mean_squared_error: 0.0125\n",
      "Epoch 26/300\n",
      "1/1 [==============================] - 0s 70ms/step - loss: 0.0125 - mean_squared_error: 0.0125 - val_loss: 0.0131 - val_mean_squared_error: 0.0131\n",
      "Epoch 27/300\n",
      "1/1 [==============================] - 0s 64ms/step - loss: 0.0131 - mean_squared_error: 0.0131 - val_loss: 0.0132 - val_mean_squared_error: 0.0132\n",
      "Epoch 28/300\n",
      "1/1 [==============================] - 0s 67ms/step - loss: 0.0132 - mean_squared_error: 0.0132 - val_loss: 0.0122 - val_mean_squared_error: 0.0122\n",
      "Epoch 29/300\n",
      "1/1 [==============================] - 0s 64ms/step - loss: 0.0122 - mean_squared_error: 0.0122 - val_loss: 0.0092 - val_mean_squared_error: 0.0092\n",
      "Epoch 30/300\n",
      "1/1 [==============================] - 0s 69ms/step - loss: 0.0092 - mean_squared_error: 0.0092 - val_loss: 0.0070 - val_mean_squared_error: 0.0070\n",
      "Epoch 31/300\n",
      "1/1 [==============================] - 0s 75ms/step - loss: 0.0070 - mean_squared_error: 0.0070 - val_loss: 0.0068 - val_mean_squared_error: 0.0068\n",
      "Epoch 32/300\n",
      "1/1 [==============================] - 0s 101ms/step - loss: 0.0068 - mean_squared_error: 0.0068 - val_loss: 0.0079 - val_mean_squared_error: 0.0079\n",
      "Epoch 33/300\n",
      "1/1 [==============================] - 0s 58ms/step - loss: 0.0079 - mean_squared_error: 0.0079 - val_loss: 0.0086 - val_mean_squared_error: 0.0086\n",
      "Epoch 34/300\n",
      "1/1 [==============================] - 0s 61ms/step - loss: 0.0086 - mean_squared_error: 0.0086 - val_loss: 0.0072 - val_mean_squared_error: 0.0072\n",
      "Epoch 35/300\n",
      "1/1 [==============================] - 0s 67ms/step - loss: 0.0072 - mean_squared_error: 0.0072 - val_loss: 0.0054 - val_mean_squared_error: 0.0054\n",
      "Epoch 36/300\n",
      "1/1 [==============================] - 0s 64ms/step - loss: 0.0054 - mean_squared_error: 0.0054 - val_loss: 0.0044 - val_mean_squared_error: 0.0044\n",
      "Epoch 37/300\n",
      "1/1 [==============================] - 0s 69ms/step - loss: 0.0044 - mean_squared_error: 0.0044 - val_loss: 0.0048 - val_mean_squared_error: 0.0048\n",
      "Epoch 38/300\n",
      "1/1 [==============================] - 0s 66ms/step - loss: 0.0048 - mean_squared_error: 0.0048 - val_loss: 0.0053 - val_mean_squared_error: 0.0053\n",
      "Epoch 39/300\n",
      "1/1 [==============================] - 0s 67ms/step - loss: 0.0053 - mean_squared_error: 0.0053 - val_loss: 0.0050 - val_mean_squared_error: 0.0050\n",
      "Epoch 40/300\n",
      "1/1 [==============================] - 0s 81ms/step - loss: 0.0050 - mean_squared_error: 0.0050 - val_loss: 0.0039 - val_mean_squared_error: 0.0039\n",
      "Epoch 41/300\n",
      "1/1 [==============================] - 0s 82ms/step - loss: 0.0039 - mean_squared_error: 0.0039 - val_loss: 0.0031 - val_mean_squared_error: 0.0031\n",
      "Epoch 42/300\n",
      "1/1 [==============================] - 0s 83ms/step - loss: 0.0031 - mean_squared_error: 0.0031 - val_loss: 0.0030 - val_mean_squared_error: 0.0030\n",
      "Epoch 43/300\n",
      "1/1 [==============================] - 0s 65ms/step - loss: 0.0030 - mean_squared_error: 0.0030 - val_loss: 0.0033 - val_mean_squared_error: 0.0033\n",
      "Epoch 44/300\n",
      "1/1 [==============================] - 0s 73ms/step - loss: 0.0033 - mean_squared_error: 0.0033 - val_loss: 0.0035 - val_mean_squared_error: 0.0035\n",
      "Epoch 45/300\n",
      "1/1 [==============================] - 0s 68ms/step - loss: 0.0035 - mean_squared_error: 0.0035 - val_loss: 0.0033 - val_mean_squared_error: 0.0033\n",
      "Epoch 46/300\n",
      "1/1 [==============================] - 0s 79ms/step - loss: 0.0033 - mean_squared_error: 0.0033 - val_loss: 0.0028 - val_mean_squared_error: 0.0028\n",
      "Epoch 47/300\n",
      "1/1 [==============================] - 0s 71ms/step - loss: 0.0028 - mean_squared_error: 0.0028 - val_loss: 0.0023 - val_mean_squared_error: 0.0023\n",
      "Epoch 48/300\n",
      "1/1 [==============================] - 0s 70ms/step - loss: 0.0023 - mean_squared_error: 0.0023 - val_loss: 0.0021 - val_mean_squared_error: 0.0021\n",
      "Epoch 49/300\n",
      "1/1 [==============================] - 0s 63ms/step - loss: 0.0021 - mean_squared_error: 0.0021 - val_loss: 0.0020 - val_mean_squared_error: 0.0020\n",
      "Epoch 50/300\n",
      "1/1 [==============================] - 0s 74ms/step - loss: 0.0020 - mean_squared_error: 0.0020 - val_loss: 0.0021 - val_mean_squared_error: 0.0021\n",
      "Epoch 51/300\n",
      "1/1 [==============================] - 0s 60ms/step - loss: 0.0021 - mean_squared_error: 0.0021 - val_loss: 0.0020 - val_mean_squared_error: 0.0020\n"
     ]
    },
    {
     "name": "stdout",
     "output_type": "stream",
     "text": [
      "Epoch 52/300\n",
      "1/1 [==============================] - 0s 117ms/step - loss: 0.0020 - mean_squared_error: 0.0020 - val_loss: 0.0018 - val_mean_squared_error: 0.0018\n",
      "Epoch 53/300\n",
      "1/1 [==============================] - 0s 98ms/step - loss: 0.0018 - mean_squared_error: 0.0018 - val_loss: 0.0016 - val_mean_squared_error: 0.0016\n",
      "Epoch 54/300\n",
      "1/1 [==============================] - 0s 96ms/step - loss: 0.0016 - mean_squared_error: 0.0016 - val_loss: 0.0016 - val_mean_squared_error: 0.0016\n",
      "Epoch 55/300\n",
      "1/1 [==============================] - 0s 61ms/step - loss: 0.0016 - mean_squared_error: 0.0016 - val_loss: 0.0017 - val_mean_squared_error: 0.0017\n",
      "Epoch 56/300\n",
      "1/1 [==============================] - 0s 57ms/step - loss: 0.0017 - mean_squared_error: 0.0017 - val_loss: 0.0016 - val_mean_squared_error: 0.0016\n",
      "Epoch 57/300\n",
      "1/1 [==============================] - 0s 71ms/step - loss: 0.0016 - mean_squared_error: 0.0016 - val_loss: 0.0014 - val_mean_squared_error: 0.0014\n",
      "Epoch 58/300\n",
      "1/1 [==============================] - 0s 54ms/step - loss: 0.0014 - mean_squared_error: 0.0014 - val_loss: 0.0012 - val_mean_squared_error: 0.0012\n",
      "Epoch 59/300\n",
      "1/1 [==============================] - 0s 60ms/step - loss: 0.0012 - mean_squared_error: 0.0012 - val_loss: 0.0012 - val_mean_squared_error: 0.0012\n",
      "Epoch 60/300\n",
      "1/1 [==============================] - 0s 57ms/step - loss: 0.0012 - mean_squared_error: 0.0012 - val_loss: 0.0013 - val_mean_squared_error: 0.0013\n",
      "Epoch 61/300\n",
      "1/1 [==============================] - 0s 63ms/step - loss: 0.0013 - mean_squared_error: 0.0013 - val_loss: 0.0013 - val_mean_squared_error: 0.0013\n",
      "Epoch 62/300\n",
      "1/1 [==============================] - 0s 59ms/step - loss: 0.0013 - mean_squared_error: 0.0013 - val_loss: 0.0012 - val_mean_squared_error: 0.0012\n",
      "Epoch 63/300\n",
      "1/1 [==============================] - 0s 55ms/step - loss: 0.0012 - mean_squared_error: 0.0012 - val_loss: 0.0011 - val_mean_squared_error: 0.0011\n",
      "Epoch 64/300\n",
      "1/1 [==============================] - 0s 52ms/step - loss: 0.0011 - mean_squared_error: 0.0011 - val_loss: 0.0010 - val_mean_squared_error: 0.0010\n",
      "Epoch 65/300\n",
      "1/1 [==============================] - 0s 60ms/step - loss: 0.0010 - mean_squared_error: 0.0010 - val_loss: 0.0011 - val_mean_squared_error: 0.0011\n",
      "Epoch 66/300\n",
      "1/1 [==============================] - 0s 59ms/step - loss: 0.0011 - mean_squared_error: 0.0011 - val_loss: 0.0010 - val_mean_squared_error: 0.0010\n",
      "Epoch 67/300\n",
      "1/1 [==============================] - 0s 58ms/step - loss: 0.0010 - mean_squared_error: 0.0010 - val_loss: 9.8576e-04 - val_mean_squared_error: 9.8576e-04\n",
      "Epoch 68/300\n",
      "1/1 [==============================] - 0s 56ms/step - loss: 9.8576e-04 - mean_squared_error: 9.8576e-04 - val_loss: 9.4717e-04 - val_mean_squared_error: 9.4717e-04\n",
      "Epoch 69/300\n",
      "1/1 [==============================] - 0s 58ms/step - loss: 9.4717e-04 - mean_squared_error: 9.4717e-04 - val_loss: 9.2563e-04 - val_mean_squared_error: 9.2563e-04\n",
      "Epoch 70/300\n",
      "1/1 [==============================] - 0s 55ms/step - loss: 9.2563e-04 - mean_squared_error: 9.2563e-04 - val_loss: 9.2288e-04 - val_mean_squared_error: 9.2288e-04\n",
      "Epoch 71/300\n",
      "1/1 [==============================] - 0s 57ms/step - loss: 9.2288e-04 - mean_squared_error: 9.2288e-04 - val_loss: 8.9815e-04 - val_mean_squared_error: 8.9815e-04\n",
      "Epoch 72/300\n",
      "1/1 [==============================] - 0s 55ms/step - loss: 8.9815e-04 - mean_squared_error: 8.9815e-04 - val_loss: 8.5699e-04 - val_mean_squared_error: 8.5699e-04\n",
      "Epoch 73/300\n",
      "1/1 [==============================] - 0s 54ms/step - loss: 8.5699e-04 - mean_squared_error: 8.5699e-04 - val_loss: 8.1359e-04 - val_mean_squared_error: 8.1359e-04\n",
      "Epoch 74/300\n",
      "1/1 [==============================] - 0s 56ms/step - loss: 8.1359e-04 - mean_squared_error: 8.1359e-04 - val_loss: 8.0300e-04 - val_mean_squared_error: 8.0300e-04\n",
      "Epoch 75/300\n",
      "1/1 [==============================] - 0s 55ms/step - loss: 8.0300e-04 - mean_squared_error: 8.0300e-04 - val_loss: 8.0699e-04 - val_mean_squared_error: 8.0699e-04\n",
      "Epoch 76/300\n",
      "1/1 [==============================] - 0s 57ms/step - loss: 8.0699e-04 - mean_squared_error: 8.0699e-04 - val_loss: 7.9350e-04 - val_mean_squared_error: 7.9350e-04\n",
      "Epoch 77/300\n",
      "1/1 [==============================] - 0s 61ms/step - loss: 7.9350e-04 - mean_squared_error: 7.9350e-04 - val_loss: 7.5740e-04 - val_mean_squared_error: 7.5740e-04\n",
      "Epoch 78/300\n",
      "1/1 [==============================] - 0s 56ms/step - loss: 7.5740e-04 - mean_squared_error: 7.5740e-04 - val_loss: 7.2340e-04 - val_mean_squared_error: 7.2340e-04\n",
      "Epoch 79/300\n",
      "1/1 [==============================] - 0s 53ms/step - loss: 7.2340e-04 - mean_squared_error: 7.2340e-04 - val_loss: 7.1325e-04 - val_mean_squared_error: 7.1325e-04\n",
      "Epoch 80/300\n",
      "1/1 [==============================] - 0s 61ms/step - loss: 7.1325e-04 - mean_squared_error: 7.1325e-04 - val_loss: 7.0825e-04 - val_mean_squared_error: 7.0825e-04\n",
      "Epoch 81/300\n",
      "1/1 [==============================] - 0s 60ms/step - loss: 7.0825e-04 - mean_squared_error: 7.0825e-04 - val_loss: 6.9673e-04 - val_mean_squared_error: 6.9673e-04\n",
      "Epoch 82/300\n",
      "1/1 [==============================] - 0s 63ms/step - loss: 6.9673e-04 - mean_squared_error: 6.9673e-04 - val_loss: 6.7476e-04 - val_mean_squared_error: 6.7476e-04\n",
      "Epoch 83/300\n",
      "1/1 [==============================] - 0s 57ms/step - loss: 6.7476e-04 - mean_squared_error: 6.7476e-04 - val_loss: 6.5722e-04 - val_mean_squared_error: 6.5722e-04\n",
      "Epoch 84/300\n",
      "1/1 [==============================] - 0s 58ms/step - loss: 6.5722e-04 - mean_squared_error: 6.5722e-04 - val_loss: 6.4653e-04 - val_mean_squared_error: 6.4653e-04\n",
      "Epoch 85/300\n",
      "1/1 [==============================] - 0s 56ms/step - loss: 6.4653e-04 - mean_squared_error: 6.4653e-04 - val_loss: 6.3357e-04 - val_mean_squared_error: 6.3357e-04\n",
      "Epoch 86/300\n",
      "1/1 [==============================] - 0s 54ms/step - loss: 6.3357e-04 - mean_squared_error: 6.3357e-04 - val_loss: 6.1725e-04 - val_mean_squared_error: 6.1725e-04\n",
      "Epoch 87/300\n",
      "1/1 [==============================] - 0s 60ms/step - loss: 6.1725e-04 - mean_squared_error: 6.1725e-04 - val_loss: 5.9882e-04 - val_mean_squared_error: 5.9882e-04\n",
      "Epoch 88/300\n",
      "1/1 [==============================] - 0s 61ms/step - loss: 5.9882e-04 - mean_squared_error: 5.9882e-04 - val_loss: 5.8773e-04 - val_mean_squared_error: 5.8773e-04\n",
      "Epoch 89/300\n",
      "1/1 [==============================] - 0s 54ms/step - loss: 5.8773e-04 - mean_squared_error: 5.8773e-04 - val_loss: 5.8091e-04 - val_mean_squared_error: 5.8091e-04\n",
      "Epoch 90/300\n",
      "1/1 [==============================] - 0s 53ms/step - loss: 5.8091e-04 - mean_squared_error: 5.8091e-04 - val_loss: 5.7173e-04 - val_mean_squared_error: 5.7173e-04\n",
      "Epoch 91/300\n",
      "1/1 [==============================] - 0s 56ms/step - loss: 5.7173e-04 - mean_squared_error: 5.7173e-04 - val_loss: 5.5541e-04 - val_mean_squared_error: 5.5541e-04\n",
      "Epoch 92/300\n",
      "1/1 [==============================] - 0s 55ms/step - loss: 5.5541e-04 - mean_squared_error: 5.5541e-04 - val_loss: 5.3855e-04 - val_mean_squared_error: 5.3855e-04\n",
      "Epoch 93/300\n",
      "1/1 [==============================] - 0s 60ms/step - loss: 5.3855e-04 - mean_squared_error: 5.3855e-04 - val_loss: 5.2933e-04 - val_mean_squared_error: 5.2933e-04\n",
      "Epoch 94/300\n",
      "1/1 [==============================] - 0s 57ms/step - loss: 5.2933e-04 - mean_squared_error: 5.2933e-04 - val_loss: 5.2140e-04 - val_mean_squared_error: 5.2140e-04\n",
      "Epoch 95/300\n",
      "1/1 [==============================] - 0s 55ms/step - loss: 5.2140e-04 - mean_squared_error: 5.2140e-04 - val_loss: 5.1082e-04 - val_mean_squared_error: 5.1082e-04\n",
      "Epoch 96/300\n",
      "1/1 [==============================] - 0s 75ms/step - loss: 5.1082e-04 - mean_squared_error: 5.1082e-04 - val_loss: 4.9802e-04 - val_mean_squared_error: 4.9802e-04\n",
      "Epoch 97/300\n",
      "1/1 [==============================] - 0s 56ms/step - loss: 4.9802e-04 - mean_squared_error: 4.9802e-04 - val_loss: 4.8741e-04 - val_mean_squared_error: 4.8741e-04\n",
      "Epoch 98/300\n",
      "1/1 [==============================] - 0s 55ms/step - loss: 4.8741e-04 - mean_squared_error: 4.8741e-04 - val_loss: 4.7914e-04 - val_mean_squared_error: 4.7914e-04\n",
      "Epoch 99/300\n",
      "1/1 [==============================] - 0s 62ms/step - loss: 4.7914e-04 - mean_squared_error: 4.7914e-04 - val_loss: 4.6850e-04 - val_mean_squared_error: 4.6850e-04\n"
     ]
    },
    {
     "name": "stdout",
     "output_type": "stream",
     "text": [
      "Epoch 100/300\n",
      "1/1 [==============================] - 0s 59ms/step - loss: 4.6850e-04 - mean_squared_error: 4.6850e-04 - val_loss: 4.5717e-04 - val_mean_squared_error: 4.5717e-04\n",
      "Epoch 101/300\n",
      "1/1 [==============================] - 0s 56ms/step - loss: 4.5717e-04 - mean_squared_error: 4.5717e-04 - val_loss: 4.4710e-04 - val_mean_squared_error: 4.4710e-04\n",
      "Epoch 102/300\n",
      "1/1 [==============================] - 0s 56ms/step - loss: 4.4710e-04 - mean_squared_error: 4.4710e-04 - val_loss: 4.3856e-04 - val_mean_squared_error: 4.3856e-04\n",
      "Epoch 103/300\n",
      "1/1 [==============================] - 0s 55ms/step - loss: 4.3856e-04 - mean_squared_error: 4.3856e-04 - val_loss: 4.2949e-04 - val_mean_squared_error: 4.2949e-04\n",
      "Epoch 104/300\n",
      "1/1 [==============================] - 0s 61ms/step - loss: 4.2949e-04 - mean_squared_error: 4.2949e-04 - val_loss: 4.1931e-04 - val_mean_squared_error: 4.1931e-04\n",
      "Epoch 105/300\n",
      "1/1 [==============================] - 0s 56ms/step - loss: 4.1931e-04 - mean_squared_error: 4.1931e-04 - val_loss: 4.0929e-04 - val_mean_squared_error: 4.0929e-04\n",
      "Epoch 106/300\n",
      "1/1 [==============================] - 0s 59ms/step - loss: 4.0929e-04 - mean_squared_error: 4.0929e-04 - val_loss: 4.0001e-04 - val_mean_squared_error: 4.0001e-04\n",
      "Epoch 107/300\n",
      "1/1 [==============================] - 0s 56ms/step - loss: 4.0001e-04 - mean_squared_error: 4.0001e-04 - val_loss: 3.9220e-04 - val_mean_squared_error: 3.9220e-04\n",
      "Epoch 108/300\n",
      "1/1 [==============================] - 0s 57ms/step - loss: 3.9220e-04 - mean_squared_error: 3.9220e-04 - val_loss: 3.8455e-04 - val_mean_squared_error: 3.8455e-04\n",
      "Epoch 109/300\n",
      "1/1 [==============================] - 0s 57ms/step - loss: 3.8455e-04 - mean_squared_error: 3.8455e-04 - val_loss: 3.7620e-04 - val_mean_squared_error: 3.7620e-04\n",
      "Epoch 110/300\n",
      "1/1 [==============================] - 0s 54ms/step - loss: 3.7620e-04 - mean_squared_error: 3.7620e-04 - val_loss: 3.6574e-04 - val_mean_squared_error: 3.6574e-04\n",
      "Epoch 111/300\n",
      "1/1 [==============================] - 0s 52ms/step - loss: 3.6574e-04 - mean_squared_error: 3.6574e-04 - val_loss: 3.5827e-04 - val_mean_squared_error: 3.5827e-04\n",
      "Epoch 112/300\n",
      "1/1 [==============================] - 0s 61ms/step - loss: 3.5827e-04 - mean_squared_error: 3.5827e-04 - val_loss: 3.4989e-04 - val_mean_squared_error: 3.4989e-04\n",
      "Epoch 113/300\n",
      "1/1 [==============================] - 0s 51ms/step - loss: 3.4989e-04 - mean_squared_error: 3.4989e-04 - val_loss: 3.4087e-04 - val_mean_squared_error: 3.4087e-04\n",
      "Epoch 114/300\n",
      "1/1 [==============================] - 0s 53ms/step - loss: 3.4087e-04 - mean_squared_error: 3.4087e-04 - val_loss: 3.3271e-04 - val_mean_squared_error: 3.3271e-04\n",
      "Epoch 115/300\n",
      "1/1 [==============================] - 0s 55ms/step - loss: 3.3271e-04 - mean_squared_error: 3.3271e-04 - val_loss: 3.2507e-04 - val_mean_squared_error: 3.2507e-04\n",
      "Epoch 116/300\n",
      "1/1 [==============================] - 0s 55ms/step - loss: 3.2507e-04 - mean_squared_error: 3.2507e-04 - val_loss: 3.1720e-04 - val_mean_squared_error: 3.1720e-04\n",
      "Epoch 117/300\n",
      "1/1 [==============================] - 0s 52ms/step - loss: 3.1720e-04 - mean_squared_error: 3.1720e-04 - val_loss: 3.0902e-04 - val_mean_squared_error: 3.0902e-04\n",
      "Epoch 118/300\n",
      "1/1 [==============================] - 0s 51ms/step - loss: 3.0902e-04 - mean_squared_error: 3.0902e-04 - val_loss: 3.0104e-04 - val_mean_squared_error: 3.0104e-04\n",
      "Epoch 119/300\n",
      "1/1 [==============================] - 0s 56ms/step - loss: 3.0104e-04 - mean_squared_error: 3.0104e-04 - val_loss: 2.9288e-04 - val_mean_squared_error: 2.9288e-04\n",
      "Epoch 120/300\n",
      "1/1 [==============================] - 0s 62ms/step - loss: 2.9288e-04 - mean_squared_error: 2.9288e-04 - val_loss: 2.8555e-04 - val_mean_squared_error: 2.8555e-04\n",
      "Epoch 121/300\n",
      "1/1 [==============================] - 0s 101ms/step - loss: 2.8555e-04 - mean_squared_error: 2.8555e-04 - val_loss: 2.7773e-04 - val_mean_squared_error: 2.7773e-04\n",
      "Epoch 122/300\n",
      "1/1 [==============================] - 0s 51ms/step - loss: 2.7773e-04 - mean_squared_error: 2.7773e-04 - val_loss: 2.7001e-04 - val_mean_squared_error: 2.7001e-04\n",
      "Epoch 123/300\n",
      "1/1 [==============================] - 0s 56ms/step - loss: 2.7001e-04 - mean_squared_error: 2.7001e-04 - val_loss: 2.6252e-04 - val_mean_squared_error: 2.6252e-04\n",
      "Epoch 124/300\n",
      "1/1 [==============================] - 0s 60ms/step - loss: 2.6252e-04 - mean_squared_error: 2.6252e-04 - val_loss: 2.5471e-04 - val_mean_squared_error: 2.5471e-04\n",
      "Epoch 125/300\n",
      "1/1 [==============================] - 0s 52ms/step - loss: 2.5471e-04 - mean_squared_error: 2.5471e-04 - val_loss: 2.4770e-04 - val_mean_squared_error: 2.4770e-04\n",
      "Epoch 126/300\n",
      "1/1 [==============================] - 0s 61ms/step - loss: 2.4770e-04 - mean_squared_error: 2.4770e-04 - val_loss: 2.4089e-04 - val_mean_squared_error: 2.4089e-04\n",
      "Epoch 127/300\n",
      "1/1 [==============================] - 0s 111ms/step - loss: 2.4089e-04 - mean_squared_error: 2.4089e-04 - val_loss: 2.3335e-04 - val_mean_squared_error: 2.3335e-04\n",
      "Epoch 128/300\n",
      "1/1 [==============================] - 0s 109ms/step - loss: 2.3335e-04 - mean_squared_error: 2.3335e-04 - val_loss: 2.2557e-04 - val_mean_squared_error: 2.2557e-04\n",
      "Epoch 129/300\n",
      "1/1 [==============================] - 0s 135ms/step - loss: 2.2557e-04 - mean_squared_error: 2.2557e-04 - val_loss: 2.1852e-04 - val_mean_squared_error: 2.1852e-04\n",
      "Epoch 130/300\n",
      "1/1 [==============================] - 0s 116ms/step - loss: 2.1852e-04 - mean_squared_error: 2.1852e-04 - val_loss: 2.1373e-04 - val_mean_squared_error: 2.1373e-04\n",
      "Epoch 131/300\n",
      "1/1 [==============================] - 0s 118ms/step - loss: 2.1373e-04 - mean_squared_error: 2.1373e-04 - val_loss: 2.0624e-04 - val_mean_squared_error: 2.0624e-04\n",
      "Epoch 132/300\n",
      "1/1 [==============================] - 0s 114ms/step - loss: 2.0624e-04 - mean_squared_error: 2.0624e-04 - val_loss: 1.9951e-04 - val_mean_squared_error: 1.9951e-04\n",
      "Epoch 133/300\n",
      "1/1 [==============================] - 0s 114ms/step - loss: 1.9951e-04 - mean_squared_error: 1.9951e-04 - val_loss: 1.9373e-04 - val_mean_squared_error: 1.9373e-04\n",
      "Epoch 134/300\n",
      "1/1 [==============================] - 0s 123ms/step - loss: 1.9373e-04 - mean_squared_error: 1.9373e-04 - val_loss: 1.8807e-04 - val_mean_squared_error: 1.8807e-04\n",
      "Epoch 135/300\n",
      "1/1 [==============================] - 0s 120ms/step - loss: 1.8807e-04 - mean_squared_error: 1.8807e-04 - val_loss: 1.8105e-04 - val_mean_squared_error: 1.8105e-04\n",
      "Epoch 136/300\n",
      "1/1 [==============================] - 0s 87ms/step - loss: 1.8105e-04 - mean_squared_error: 1.8105e-04 - val_loss: 1.7517e-04 - val_mean_squared_error: 1.7517e-04\n",
      "Epoch 137/300\n",
      "1/1 [==============================] - 0s 56ms/step - loss: 1.7517e-04 - mean_squared_error: 1.7517e-04 - val_loss: 1.6911e-04 - val_mean_squared_error: 1.6911e-04\n",
      "Epoch 138/300\n",
      "1/1 [==============================] - 0s 56ms/step - loss: 1.6911e-04 - mean_squared_error: 1.6911e-04 - val_loss: 1.6302e-04 - val_mean_squared_error: 1.6302e-04\n",
      "Epoch 139/300\n",
      "1/1 [==============================] - 0s 71ms/step - loss: 1.6302e-04 - mean_squared_error: 1.6302e-04 - val_loss: 1.5719e-04 - val_mean_squared_error: 1.5719e-04\n",
      "Epoch 140/300\n",
      "1/1 [==============================] - 0s 81ms/step - loss: 1.5719e-04 - mean_squared_error: 1.5719e-04 - val_loss: 1.5148e-04 - val_mean_squared_error: 1.5148e-04\n",
      "Epoch 141/300\n",
      "1/1 [==============================] - 0s 95ms/step - loss: 1.5148e-04 - mean_squared_error: 1.5148e-04 - val_loss: 1.4497e-04 - val_mean_squared_error: 1.4497e-04\n",
      "Epoch 142/300\n",
      "1/1 [==============================] - 0s 165ms/step - loss: 1.4497e-04 - mean_squared_error: 1.4497e-04 - val_loss: 1.3924e-04 - val_mean_squared_error: 1.3924e-04\n",
      "Epoch 143/300\n",
      "1/1 [==============================] - 0s 47ms/step - loss: 1.3924e-04 - mean_squared_error: 1.3924e-04 - val_loss: 1.3403e-04 - val_mean_squared_error: 1.3403e-04\n",
      "Epoch 144/300\n",
      "1/1 [==============================] - 0s 58ms/step - loss: 1.3403e-04 - mean_squared_error: 1.3403e-04 - val_loss: 1.2781e-04 - val_mean_squared_error: 1.2781e-04\n",
      "Epoch 145/300\n",
      "1/1 [==============================] - 0s 61ms/step - loss: 1.2781e-04 - mean_squared_error: 1.2781e-04 - val_loss: 1.2265e-04 - val_mean_squared_error: 1.2265e-04\n"
     ]
    },
    {
     "name": "stdout",
     "output_type": "stream",
     "text": [
      "Epoch 146/300\n",
      "1/1 [==============================] - 0s 56ms/step - loss: 1.2265e-04 - mean_squared_error: 1.2265e-04 - val_loss: 1.1736e-04 - val_mean_squared_error: 1.1736e-04\n",
      "Epoch 147/300\n",
      "1/1 [==============================] - 0s 64ms/step - loss: 1.1736e-04 - mean_squared_error: 1.1736e-04 - val_loss: 1.1194e-04 - val_mean_squared_error: 1.1194e-04\n",
      "Epoch 148/300\n",
      "1/1 [==============================] - 0s 63ms/step - loss: 1.1194e-04 - mean_squared_error: 1.1194e-04 - val_loss: 1.0817e-04 - val_mean_squared_error: 1.0817e-04\n",
      "Epoch 149/300\n",
      "1/1 [==============================] - 0s 61ms/step - loss: 1.0817e-04 - mean_squared_error: 1.0817e-04 - val_loss: 1.0254e-04 - val_mean_squared_error: 1.0254e-04\n",
      "Epoch 150/300\n",
      "1/1 [==============================] - 0s 137ms/step - loss: 1.0254e-04 - mean_squared_error: 1.0254e-04 - val_loss: 9.7667e-05 - val_mean_squared_error: 9.7667e-05\n",
      "Epoch 151/300\n",
      "1/1 [==============================] - 0s 116ms/step - loss: 9.7667e-05 - mean_squared_error: 9.7667e-05 - val_loss: 9.2887e-05 - val_mean_squared_error: 9.2887e-05\n",
      "Epoch 152/300\n",
      "1/1 [==============================] - 0s 113ms/step - loss: 9.2887e-05 - mean_squared_error: 9.2887e-05 - val_loss: 8.8306e-05 - val_mean_squared_error: 8.8306e-05\n",
      "Epoch 153/300\n",
      "1/1 [==============================] - 0s 111ms/step - loss: 8.8306e-05 - mean_squared_error: 8.8306e-05 - val_loss: 8.4430e-05 - val_mean_squared_error: 8.4430e-05\n",
      "Epoch 154/300\n",
      "1/1 [==============================] - 0s 87ms/step - loss: 8.4430e-05 - mean_squared_error: 8.4430e-05 - val_loss: 8.0957e-05 - val_mean_squared_error: 8.0957e-05\n",
      "Epoch 155/300\n",
      "1/1 [==============================] - 0s 87ms/step - loss: 8.0957e-05 - mean_squared_error: 8.0957e-05 - val_loss: 7.6321e-05 - val_mean_squared_error: 7.6321e-05\n",
      "Epoch 156/300\n",
      "1/1 [==============================] - 0s 97ms/step - loss: 7.6321e-05 - mean_squared_error: 7.6321e-05 - val_loss: 7.2873e-05 - val_mean_squared_error: 7.2873e-05\n",
      "Epoch 157/300\n",
      "1/1 [==============================] - 0s 112ms/step - loss: 7.2873e-05 - mean_squared_error: 7.2873e-05 - val_loss: 6.8941e-05 - val_mean_squared_error: 6.8941e-05\n",
      "Epoch 158/300\n",
      "1/1 [==============================] - 0s 105ms/step - loss: 6.8941e-05 - mean_squared_error: 6.8941e-05 - val_loss: 6.5316e-05 - val_mean_squared_error: 6.5316e-05\n",
      "Epoch 159/300\n",
      "1/1 [==============================] - 0s 111ms/step - loss: 6.5316e-05 - mean_squared_error: 6.5316e-05 - val_loss: 6.1977e-05 - val_mean_squared_error: 6.1977e-05\n",
      "Epoch 160/300\n",
      "1/1 [==============================] - 0s 115ms/step - loss: 6.1977e-05 - mean_squared_error: 6.1977e-05 - val_loss: 5.8612e-05 - val_mean_squared_error: 5.8612e-05\n",
      "Epoch 161/300\n",
      "1/1 [==============================] - 0s 112ms/step - loss: 5.8612e-05 - mean_squared_error: 5.8612e-05 - val_loss: 5.5153e-05 - val_mean_squared_error: 5.5153e-05\n",
      "Epoch 162/300\n",
      "1/1 [==============================] - 0s 104ms/step - loss: 5.5153e-05 - mean_squared_error: 5.5153e-05 - val_loss: 5.2196e-05 - val_mean_squared_error: 5.2196e-05\n",
      "Epoch 163/300\n",
      "1/1 [==============================] - 0s 108ms/step - loss: 5.2196e-05 - mean_squared_error: 5.2196e-05 - val_loss: 4.9043e-05 - val_mean_squared_error: 4.9043e-05\n",
      "Epoch 164/300\n",
      "1/1 [==============================] - 0s 98ms/step - loss: 4.9043e-05 - mean_squared_error: 4.9043e-05 - val_loss: 4.5820e-05 - val_mean_squared_error: 4.5820e-05\n",
      "Epoch 165/300\n",
      "1/1 [==============================] - 0s 102ms/step - loss: 4.5820e-05 - mean_squared_error: 4.5820e-05 - val_loss: 4.2853e-05 - val_mean_squared_error: 4.2853e-05\n",
      "Epoch 166/300\n",
      "1/1 [==============================] - 0s 103ms/step - loss: 4.2853e-05 - mean_squared_error: 4.2853e-05 - val_loss: 4.0102e-05 - val_mean_squared_error: 4.0102e-05\n",
      "Epoch 167/300\n",
      "1/1 [==============================] - 0s 116ms/step - loss: 4.0102e-05 - mean_squared_error: 4.0102e-05 - val_loss: 3.7975e-05 - val_mean_squared_error: 3.7975e-05\n",
      "Epoch 168/300\n",
      "1/1 [==============================] - 0s 117ms/step - loss: 3.7975e-05 - mean_squared_error: 3.7975e-05 - val_loss: 3.5340e-05 - val_mean_squared_error: 3.5340e-05\n",
      "Epoch 169/300\n",
      "1/1 [==============================] - 0s 114ms/step - loss: 3.5340e-05 - mean_squared_error: 3.5340e-05 - val_loss: 3.3147e-05 - val_mean_squared_error: 3.3147e-05\n",
      "Epoch 170/300\n",
      "1/1 [==============================] - 0s 105ms/step - loss: 3.3147e-05 - mean_squared_error: 3.3147e-05 - val_loss: 3.0957e-05 - val_mean_squared_error: 3.0957e-05\n",
      "Epoch 171/300\n",
      "1/1 [==============================] - 0s 112ms/step - loss: 3.0957e-05 - mean_squared_error: 3.0957e-05 - val_loss: 2.8850e-05 - val_mean_squared_error: 2.8850e-05\n",
      "Epoch 172/300\n",
      "1/1 [==============================] - 0s 115ms/step - loss: 2.8850e-05 - mean_squared_error: 2.8850e-05 - val_loss: 2.6777e-05 - val_mean_squared_error: 2.6777e-05\n",
      "Epoch 173/300\n",
      "1/1 [==============================] - 0s 116ms/step - loss: 2.6777e-05 - mean_squared_error: 2.6777e-05 - val_loss: 2.5061e-05 - val_mean_squared_error: 2.5061e-05\n",
      "Epoch 174/300\n",
      "1/1 [==============================] - 0s 119ms/step - loss: 2.5061e-05 - mean_squared_error: 2.5061e-05 - val_loss: 2.3174e-05 - val_mean_squared_error: 2.3174e-05\n",
      "Epoch 175/300\n",
      "1/1 [==============================] - 0s 131ms/step - loss: 2.3174e-05 - mean_squared_error: 2.3174e-05 - val_loss: 2.1293e-05 - val_mean_squared_error: 2.1293e-05\n",
      "Epoch 176/300\n",
      "1/1 [==============================] - 0s 121ms/step - loss: 2.1293e-05 - mean_squared_error: 2.1293e-05 - val_loss: 1.9515e-05 - val_mean_squared_error: 1.9515e-05\n",
      "Epoch 177/300\n",
      "1/1 [==============================] - 0s 116ms/step - loss: 1.9515e-05 - mean_squared_error: 1.9515e-05 - val_loss: 1.7967e-05 - val_mean_squared_error: 1.7967e-05\n",
      "Epoch 178/300\n",
      "1/1 [==============================] - 0s 112ms/step - loss: 1.7967e-05 - mean_squared_error: 1.7967e-05 - val_loss: 1.6861e-05 - val_mean_squared_error: 1.6861e-05\n",
      "Epoch 179/300\n",
      "1/1 [==============================] - 0s 110ms/step - loss: 1.6861e-05 - mean_squared_error: 1.6861e-05 - val_loss: 1.5150e-05 - val_mean_squared_error: 1.5150e-05\n",
      "Epoch 180/300\n",
      "1/1 [==============================] - 0s 109ms/step - loss: 1.5150e-05 - mean_squared_error: 1.5150e-05 - val_loss: 1.3945e-05 - val_mean_squared_error: 1.3945e-05\n",
      "Epoch 181/300\n",
      "1/1 [==============================] - 0s 118ms/step - loss: 1.3945e-05 - mean_squared_error: 1.3945e-05 - val_loss: 1.2770e-05 - val_mean_squared_error: 1.2770e-05\n",
      "Epoch 182/300\n",
      "1/1 [==============================] - 0s 103ms/step - loss: 1.2770e-05 - mean_squared_error: 1.2770e-05 - val_loss: 1.1686e-05 - val_mean_squared_error: 1.1686e-05\n",
      "Epoch 183/300\n",
      "1/1 [==============================] - 0s 102ms/step - loss: 1.1686e-05 - mean_squared_error: 1.1686e-05 - val_loss: 1.0606e-05 - val_mean_squared_error: 1.0606e-05\n",
      "Epoch 184/300\n",
      "1/1 [==============================] - 0s 55ms/step - loss: 1.0606e-05 - mean_squared_error: 1.0606e-05 - val_loss: 9.7726e-06 - val_mean_squared_error: 9.7726e-06\n",
      "Epoch 185/300\n",
      "1/1 [==============================] - 0s 57ms/step - loss: 9.7726e-06 - mean_squared_error: 9.7726e-06 - val_loss: 8.9368e-06 - val_mean_squared_error: 8.9368e-06\n",
      "Epoch 186/300\n",
      "1/1 [==============================] - 0s 59ms/step - loss: 8.9368e-06 - mean_squared_error: 8.9368e-06 - val_loss: 8.1636e-06 - val_mean_squared_error: 8.1636e-06\n",
      "Epoch 187/300\n",
      "1/1 [==============================] - 0s 50ms/step - loss: 8.1636e-06 - mean_squared_error: 8.1636e-06 - val_loss: 7.4853e-06 - val_mean_squared_error: 7.4853e-06\n",
      "Epoch 188/300\n",
      "1/1 [==============================] - 0s 56ms/step - loss: 7.4853e-06 - mean_squared_error: 7.4853e-06 - val_loss: 7.0634e-06 - val_mean_squared_error: 7.0634e-06\n",
      "Epoch 189/300\n",
      "1/1 [==============================] - 0s 66ms/step - loss: 7.0634e-06 - mean_squared_error: 7.0634e-06 - val_loss: 7.0480e-06 - val_mean_squared_error: 7.0480e-06\n",
      "Epoch 190/300\n",
      "1/1 [==============================] - 0s 52ms/step - loss: 7.0480e-06 - mean_squared_error: 7.0480e-06 - val_loss: 7.6354e-06 - val_mean_squared_error: 7.6354e-06\n",
      "Epoch 191/300\n",
      "1/1 [==============================] - 0s 61ms/step - loss: 7.6354e-06 - mean_squared_error: 7.6354e-06 - val_loss: 9.7444e-06 - val_mean_squared_error: 9.7444e-06\n"
     ]
    },
    {
     "name": "stdout",
     "output_type": "stream",
     "text": [
      "Epoch 192/300\n",
      "1/1 [==============================] - 0s 53ms/step - loss: 9.7444e-06 - mean_squared_error: 9.7444e-06 - val_loss: 1.4531e-05 - val_mean_squared_error: 1.4531e-05\n",
      "Epoch 193/300\n",
      "1/1 [==============================] - 0s 56ms/step - loss: 1.4531e-05 - mean_squared_error: 1.4531e-05 - val_loss: 2.5474e-05 - val_mean_squared_error: 2.5474e-05\n",
      "Epoch 194/300\n",
      "1/1 [==============================] - 0s 56ms/step - loss: 2.5474e-05 - mean_squared_error: 2.5474e-05 - val_loss: 4.8877e-05 - val_mean_squared_error: 4.8877e-05\n",
      "Epoch 195/300\n",
      "1/1 [==============================] - 0s 55ms/step - loss: 4.8877e-05 - mean_squared_error: 4.8877e-05 - val_loss: 1.0243e-04 - val_mean_squared_error: 1.0243e-04\n",
      "Epoch 196/300\n",
      "1/1 [==============================] - 0s 57ms/step - loss: 1.0243e-04 - mean_squared_error: 1.0243e-04 - val_loss: 2.1335e-04 - val_mean_squared_error: 2.1335e-04\n",
      "Epoch 197/300\n",
      "1/1 [==============================] - 0s 67ms/step - loss: 2.1335e-04 - mean_squared_error: 2.1335e-04 - val_loss: 4.6511e-04 - val_mean_squared_error: 4.6511e-04\n",
      "Epoch 198/300\n",
      "1/1 [==============================] - 0s 50ms/step - loss: 4.6511e-04 - mean_squared_error: 4.6511e-04 - val_loss: 8.9995e-04 - val_mean_squared_error: 8.9995e-04\n",
      "Epoch 199/300\n",
      "1/1 [==============================] - 0s 61ms/step - loss: 8.9995e-04 - mean_squared_error: 8.9995e-04 - val_loss: 0.0017 - val_mean_squared_error: 0.0017\n",
      "Epoch 200/300\n",
      "1/1 [==============================] - 0s 62ms/step - loss: 0.0017 - mean_squared_error: 0.0017 - val_loss: 0.0023 - val_mean_squared_error: 0.0023\n"
     ]
    }
   ],
   "source": [
    "history=ann.fit(X_train1, y_train1, batch_size=32, epochs=300, validation_data=(X_train1, y_train1), callbacks=[callback])"
   ]
  },
  {
   "cell_type": "code",
   "execution_count": 152,
   "id": "03599703",
   "metadata": {},
   "outputs": [
    {
     "name": "stdout",
     "output_type": "stream",
     "text": [
      "1/1 [==============================] - 0s 190ms/step\n"
     ]
    },
    {
     "data": {
      "text/plain": [
       "array([[ 0.90437275],\n",
       "       [ 0.9805346 ],\n",
       "       [-1.311724  ],\n",
       "       [ 0.97336376],\n",
       "       [-0.30936325],\n",
       "       [ 0.07662033],\n",
       "       [-0.15445048],\n",
       "       [-0.9033144 ],\n",
       "       [-0.5130419 ],\n",
       "       [ 0.9499983 ],\n",
       "       [-2.1216428 ],\n",
       "       [-1.3546169 ],\n",
       "       [ 0.9797537 ]], dtype=float32)"
      ]
     },
     "execution_count": 152,
     "metadata": {},
     "output_type": "execute_result"
    }
   ],
   "source": [
    "ann_preds=ann.predict(X_test1)\n",
    "ann_preds"
   ]
  },
  {
   "cell_type": "code",
   "execution_count": 153,
   "id": "5fbb94e2",
   "metadata": {},
   "outputs": [
    {
     "data": {
      "image/png": "[encoded data removed]",
      "text/plain": [
       "<Figure size 1440x432 with 1 Axes>"
      ]
     },
     "metadata": {
      "needs_background": "light"
     },
     "output_type": "display_data"
    }
   ],
   "source": [
    "plt.figure(figsize=(20,6))\n",
    "plt.plot(history.history['loss'])\n",
    "plt.plot(history.history['val_loss'])\n",
    "plt.ylabel('loss')\n",
    "plt.xlabel('epoch')\n",
    "plt.legend(['train', 'validation'], loc='best')\n",
    "plt.show()"
   ]
  },
  {
   "cell_type": "code",
   "execution_count": 155,
   "id": "18d776f3",
   "metadata": {},
   "outputs": [
    {
     "data": {
      "text/plain": [
       "0.9871864205401589"
      ]
     },
     "execution_count": 155,
     "metadata": {},
     "output_type": "execute_result"
    }
   ],
   "source": [
    "r2_score(y_test1,ann_preds)"
   ]
  },
  {
   "cell_type": "code",
   "execution_count": null,
   "id": "b45d41dc",
   "metadata": {},
   "outputs": [],
   "source": []
  },
  {
   "cell_type": "code",
   "execution_count": null,
   "id": "91f396d7",
   "metadata": {},
   "outputs": [],
   "source": []
  },
  {
   "cell_type": "markdown",
   "id": "a567019b",
   "metadata": {},
   "source": [
    "## XGBOOST"
   ]
  },
  {
   "cell_type": "code",
   "execution_count": 178,
   "id": "ab8945c1",
   "metadata": {},
   "outputs": [],
   "source": [
    "from xgboost import XGBRegressor\n",
    "from sklearn.model_selection import RandomizedSearchCV"
   ]
  },
  {
   "cell_type": "markdown",
   "id": "ea788d9f",
   "metadata": {},
   "source": [
    "#### USING GRIDSEARCH"
   ]
  },
  {
   "cell_type": "code",
   "execution_count": 179,
   "id": "4a107c26",
   "metadata": {},
   "outputs": [],
   "source": [
    "#XGBoost hyper-parameter tuning\n",
    "def hyperParameterTuning(X_train1, y_train1):\n",
    "    param_tuning = {\n",
    "        'learning_rate': [0.01,0.05,0.1,0.15,0.2],\n",
    "        'max_depth': [3, 5, 7, 10],\n",
    "        'min_child_weight': [1, 10, 100],\n",
    "        'subsample': [0.5, 0.7],\n",
    "        'colsample_bytree': [0.5, 0.7],\n",
    "        'n_estimators' : range(100,1100,100),\n",
    "        'objective': ['reg:squarederror']\n",
    "    }\n",
    "\n",
    "    xgb_model = XGBRegressor()\n",
    "\n",
    "    gsearch = GridSearchCV(estimator = xgb_model,\n",
    "                           param_grid = param_tuning,                        \n",
    "                           #scoring = 'neg_mean_absolute_error', #MAE\n",
    "                           #scoring = 'neg_mean_squared_error',  #MSE\n",
    "                           cv = 5,\n",
    "                           n_jobs = -1,\n",
    "                           verbose = 1)\n",
    "\n",
    "    gsearch.fit(X_train1,y_train1)\n",
    "    \n",
    "    return gsearch.best_params_\n"
   ]
  },
  {
   "cell_type": "code",
   "execution_count": 180,
   "id": "0702fa3e",
   "metadata": {},
   "outputs": [
    {
     "name": "stdout",
     "output_type": "stream",
     "text": [
      "Fitting 5 folds for each of 2400 candidates, totalling 12000 fits\n"
     ]
    },
    {
     "data": {
      "text/plain": [
       "{'colsample_bytree': 0.5,\n",
       " 'learning_rate': 0.1,\n",
       " 'max_depth': 7,\n",
       " 'min_child_weight': 1,\n",
       " 'n_estimators': 1000,\n",
       " 'objective': 'reg:squarederror',\n",
       " 'subsample': 0.5}"
      ]
     },
     "execution_count": 180,
     "metadata": {},
     "output_type": "execute_result"
    }
   ],
   "source": [
    "hyperParameterTuning(X_train1, y_train1)"
   ]
  },
  {
   "cell_type": "code",
   "execution_count": 183,
   "id": "6911e2af",
   "metadata": {},
   "outputs": [
    {
     "name": "stdout",
     "output_type": "stream",
     "text": [
      "Wall time: 613 ms\n",
      "MSE:  0.08980109579882248\n"
     ]
    }
   ],
   "source": [
    "xgb_model = XGBRegressor(\n",
    "        objective = 'reg:squarederror',\n",
    "        colsample_bytree = 0.5,\n",
    "        learning_rate = 0.05,\n",
    "        max_depth = 10,\n",
    "        min_child_weight = 1,\n",
    "        n_estimators = 1000,\n",
    "        subsample = 0.7)\n",
    "\n",
    "%time xgb_model.fit(X_train1, y_train1, early_stopping_rounds=5, eval_set=[(X_test1, y_test1)], verbose=False)\n",
    "\n",
    "y_pred_xgb = xgb_model.predict(X_test1)\n",
    "\n",
    "mse_xgb = mean_squared_error(y_test1, y_pred_xgb)\n",
    "\n",
    "print(\"MSE: \", mse_xgb)"
   ]
  },
  {
   "cell_type": "code",
   "execution_count": 184,
   "id": "8ec6795b",
   "metadata": {},
   "outputs": [
    {
     "data": {
      "text/plain": [
       "0.9135874134787212"
      ]
     },
     "execution_count": 184,
     "metadata": {},
     "output_type": "execute_result"
    }
   ],
   "source": [
    "r2_score(y_test1,y_pred_xgb)"
   ]
  },
  {
   "cell_type": "code",
   "execution_count": null,
   "id": "ddb9f772",
   "metadata": {},
   "outputs": [],
   "source": []
  },
  {
   "cell_type": "markdown",
   "id": "496fa45d",
   "metadata": {},
   "source": [
    "#### USING RANDOMIZEDSEARCHCV"
   ]
  },
  {
   "cell_type": "code",
   "execution_count": 185,
   "id": "58f20602",
   "metadata": {},
   "outputs": [],
   "source": [
    "xgb_reg=XGBRegressor(objective=\"reg:squarederror\",\n",
    "                    nthread=4,silent=0)\n",
    "\n",
    "params={\n",
    "    \"num_boost_round\" : [5,10,15,20,25],\n",
    "    \"eta\" : [0.05, 0.001, 0.1, 0.3],\n",
    "    \"max_depth\" : [3,4,5,6],\n",
    "    \"subsample\" : [0.8,0.9,1.0],\n",
    "    \"colsample_bytree\" : [0.8, 0.9, 1.0],\n",
    "    \"alpha\" : [0.0,0.1, 0.3]\n",
    "}\n",
    "import time"
   ]
  },
  {
   "cell_type": "code",
   "execution_count": 188,
   "id": "5ac74f85",
   "metadata": {},
   "outputs": [
    {
     "name": "stdout",
     "output_type": "stream",
     "text": [
      "Fitting 5 folds for each of 500 candidates, totalling 2500 fits\n",
      "[20:08:07] WARNING: C:/Users/Administrator/workspace/xgboost-win64_release_1.6.0/src/learner.cc:627: \n",
      "Parameters: { \"num_boost_round\", \"silent\" } might not be used.\n",
      "\n",
      "  This could be a false alarm, with some parameters getting used by language bindings but\n",
      "  then being mistakenly passed down to XGBoost core, or some parameter actually being used\n",
      "  but getting flagged wrongly here. Please open an issue if you find any such cases.\n",
      "\n",
      "\n",
      "RandomizedSearchCV Results :\n",
      "0.872402331712539\n",
      "Best Parameters: \n",
      "alpha: 0.0\n",
      "colsample_bytree: 1.0\n",
      "eta: 0.3\n",
      "max_depth: 3\n",
      "num_boost_round: 25\n",
      "subsample: 0.9\n",
      "Time Elapsed:136.96660256385803\n",
      "\n",
      "Best Estimator:\n",
      "random_search.best_estimator_\n"
     ]
    }
   ],
   "source": [
    "random_search=RandomizedSearchCV(xgb_reg, params,\n",
    "                                n_jobs=-1, cv=5, n_iter=500,\n",
    "                                verbose=1, scoring=\"r2\")\n",
    "start=time.time()\n",
    "\n",
    "random_search.fit(X_train1, y_train1, verbose=True)\n",
    "best_parameters=random_search.best_params_\n",
    "\n",
    "print(\"RandomizedSearchCV Results :\")\n",
    "print(random_search.best_score_)\n",
    "print(\"Best Parameters: \")\n",
    "for param_name in sorted(best_parameters.keys()):\n",
    "    print(\"%s: %r\" % (param_name, best_parameters[param_name]))\n",
    "end=time.time()\n",
    "print(\"Time Elapsed:\" + str(end-start))\n",
    "print('')\n",
    "print(\"Best Estimator:\" )\n",
    "print(\"random_search.best_estimator_\")\n",
    "\n",
    "y_pred_xgbran=random_search.predict(X_test1)"
   ]
  },
  {
   "cell_type": "code",
   "execution_count": 189,
   "id": "bd56e5bb",
   "metadata": {},
   "outputs": [
    {
     "data": {
      "text/plain": [
       "0.9581358855020919"
      ]
     },
     "execution_count": 189,
     "metadata": {},
     "output_type": "execute_result"
    }
   ],
   "source": [
    "r2_score(y_test1,y_pred_xgbran)"
   ]
  },
  {
   "cell_type": "code",
   "execution_count": 190,
   "id": "8ac904f3",
   "metadata": {},
   "outputs": [
    {
     "data": {
      "text/plain": [
       "0.04350573808635809"
      ]
     },
     "execution_count": 190,
     "metadata": {},
     "output_type": "execute_result"
    }
   ],
   "source": [
    "mean_squared_error(y_test1,y_pred_xgbran)"
   ]
  },
  {
   "cell_type": "code",
   "execution_count": null,
   "id": "4984cddc",
   "metadata": {},
   "outputs": [],
   "source": []
  }
 ],
 "metadata": {
  "kernelspec": {
   "display_name": "Python 3 (ipykernel)",
   "language": "python",
   "name": "python3"
  },
  "language_info": {
   "codemirror_mode": {
    "name": "ipython",
    "version": 3
   },
   "file_extension": ".py",
   "mimetype": "text/x-python",
   "name": "python",
   "nbconvert_exporter": "python",
   "pygments_lexer": "ipython3",
   "version": "3.9.7"
  }
 },
 "nbformat": 4,
 "nbformat_minor": 5
}
